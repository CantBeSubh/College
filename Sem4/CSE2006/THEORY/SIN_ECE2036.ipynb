{
 "cells": [
  {
   "cell_type": "code",
   "execution_count": null,
   "id": "1f1e27b6-a158-4b61-955b-37fd9cdc4db8",
   "metadata": {},
   "outputs": [],
   "source": [
    "import numpy as np\n",
    "import matplotlib.pyplot as plt\n",
    "import scipy.signal as scipySignal\n"
   ]
  },
  {
   "cell_type": "code",
   "execution_count": null,
   "id": "da86a80c-abb8-4f15-840e-b993303e9192",
   "metadata": {},
   "outputs": [],
   "source": [
    "import matplotlib.pyplot as plt"
   ]
  },
  {
   "cell_type": "code",
   "execution_count": null,
   "id": "561f7b94-01f7-494a-9e4a-684e46952bfa",
   "metadata": {},
   "outputs": [],
   "source": [
    "freq = 50 #hz\n",
    "time_period = 1/freq\n",
    "time=time_period*2\n",
    "amplitude=2"
   ]
  },
  {
   "cell_type": "code",
   "execution_count": null,
   "id": "e410080e-a8f9-48b8-9dd0-26f01b346c24",
   "metadata": {},
   "outputs": [],
   "source": [
    "t=np.linspace (0, time, 500, endpoint=True)\n",
    "x=2*3.14*freq*t"
   ]
  },
  {
   "cell_type": "code",
   "execution_count": null,
   "id": "1d09aeae-280c-491f-97a5-994d0520e8f4",
   "metadata": {},
   "outputs": [],
   "source": [
    "yc=amplitude*np.sin(x)"
   ]
  },
  {
   "cell_type": "code",
   "execution_count": null,
   "id": "3e40ee5c-460d-48bd-b6e5-46d4ba651d19",
   "metadata": {},
   "outputs": [],
   "source": [
    "import matplotlib.pyplot as plt\n",
    "plt.rcParams[\"figure.figsize\"]= (10,4)\n",
    "fig = plt.figure()\n",
    "fig.add_axes ([0.1,0.1,0.8,0.8])\n",
    "plt.plot (x, yc, color ='tab:red', linewidth=3)\n",
    "plt.xlabel (\"time (ms)\", fontsize=18)\n",
    "plt.ylabel (\"Amplitude\", fontsize=18)\n",
    "plt.title (\"Signal plot\", fontsize=18)"
   ]
  },
  {
   "cell_type": "code",
   "execution_count": null,
   "id": "3f3e301d-4073-4ed1-898c-f98b8e21c6ab",
   "metadata": {},
   "outputs": [],
   "source": [
    "yc=amplitude*np.sin(x) + 1*np.random.rand (len(x))"
   ]
  },
  {
   "cell_type": "code",
   "execution_count": null,
   "id": "0eb8f920-ed94-4b69-8ab9-e3d19a7f6e23",
   "metadata": {},
   "outputs": [],
   "source": [
    "plt.rcParams [\"figure.figsize\"] = (10,4)\n",
    "fig = plt.figure()\n",
    "fig.add_axes([0.1,0.1,0.8,0.8])\n",
    "x1=x*1000/(2*3.14*freq) #in ms\n",
    "plt.plot(x1, yc, color ='tab:red', linewidth=3)\n",
    "plt.xlabel(\"time (ms) \", fontsize=18)\n",
    "plt.ylabel(\"Amplitude\", fontsize=18)\n",
    "plt.title(\"Signal plot with noise\", fontsize=18)\n",
    "#fig.set ylim([-3,3])"
   ]
  },
  {
   "cell_type": "code",
   "execution_count": null,
   "id": "e42d3eb8",
   "metadata": {},
   "outputs": [],
   "source": [
    "from IPython.display import Audio, display\n",
    "import matplotlib.pyplot as plt\n",
    "from numpy import fft\n",
    "import numpy as np\n",
    "import pydub\n",
    "from scipy.fftpack import fft\n",
    "from scipy.io import wavfile\n",
    "import scipy\n",
    "import urllib\n",
    "\n",
    "\n",
    "AUDIO_URL='http://downloads.bbc.co.uk/rmhttp/radio4/science/Birdsong-Blackbird.mp3'\n",
    "temp_folder = '~\\'\n",
    "\n",
    "urllib.request.urlretrieve(AUDIO_URL, temp_folder+'file.mp3')\n",
    "#read mp3 file\n",
    "mp3 = pydub.AudioSegment.from_mp3(temp_folder+\"file.mp3\")\n",
    "#convert to wav\n",
    "mp3.export(temp_folder+\"file.wav\", format=\"wav\")\n",
    "#read wav file\n",
    "freq, audio_data = scipy.io.wavfile.read(temp_folder+\"file.wav\")\n",
    "length = audio_data.shape[0]/freq\n",
    "channels = audio_data.shape[1]\n",
    "print('freq: {} length: {} channels: {}'.format(freq, length, channels))\n",
    "#if stereo grab both channels\n",
    "channel1 = audio_data[:,0] #left\n",
    "channel2 = audio_data[:,1] #right\n",
    "\n",
    "#create a time variable in seconds\n",
    "time = np.arange(0, float(audio_data.shape[0]), 1) / freq\n",
    "\n",
    "#plot amplitude (or loudness) over time\n",
    "plt.figure(1)\n",
    "plt.subplot(211)\n",
    "plt.plot(time, channel1, linewidth=0.01, alpha=0.7, color='#ff7f00')\n",
    "plt.xlabel('Time (s)')\n",
    "plt.ylabel('Amplitude')\n",
    "plt.subplot(212)\n",
    "plt.plot(time, channel2, linewidth=0.01, alpha=0.7, color='#ff7f00')\n",
    "plt.xlabel('Time (s)')\n",
    "plt.ylabel('Amplitude')\n",
    "plt.show()\n",
    "\n",
    "fourier=fft(channel1)\n",
    "\n",
    "n = len(channel1)\n",
    "fourier = fourier[0:int(n/2)]\n",
    "\n",
    "# scale by the number of points so that the magnitude does not depend on the length\n",
    "fourier = fourier / float(n)\n",
    "\n",
    "#calculate the frequency at each point in Hz\n",
    "freq_array = np.arange(0, (n/2), 1.0) * (freq*1.0/n);\n",
    "\n",
    "plt.plot(freq_array/1000, 10*np.log10(fourier), color='#ff7f00', linewidth=0.02)\n",
    "plt.xlabel('frequency in kHz')\n",
    "plt.ylabel('power in dB')\n",
    "plt.savefig(temp_folder+'spectrogram.png')"
   ]
  }
 ],
 "metadata": {
  "kernelspec": {
   "display_name": "Python 3 (ipykernel)",
   "language": "python",
   "name": "python3"
  },
  "language_info": {
   "codemirror_mode": {
    "name": "ipython",
    "version": 3
   },
   "file_extension": ".py",
   "mimetype": "text/x-python",
   "name": "python",
   "nbconvert_exporter": "python",
   "pygments_lexer": "ipython3",
   "version": "3.9.6"
  }
 },
 "nbformat": 4,
 "nbformat_minor": 5
}
