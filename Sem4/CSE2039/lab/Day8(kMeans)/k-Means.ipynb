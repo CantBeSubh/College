{
  "cells": [
    {
      "cell_type": "markdown",
      "metadata": {},
      "source": [
        "# k-means clustering"
      ]
    },
    {
      "cell_type": "code",
      "execution_count": 1,
      "metadata": {},
      "outputs": [],
      "source": [
        "import scipy as sp\n",
        "from scipy import stats\n"
      ]
    },
    {
      "cell_type": "code",
      "execution_count": 2,
      "metadata": {
        "ExecuteTime": {
          "end_time": "2019-06-09T11:27:00.536443Z",
          "start_time": "2019-06-09T11:27:00.531456Z"
        },
        "trusted": true
      },
      "outputs": [
        {
          "name": "stderr",
          "output_type": "stream",
          "text": [
            "/tmp/ipykernel_30917/263016179.py:1: DeprecationWarning: scipy.array is deprecated and will be removed in SciPy 2.0.0, use numpy.array instead\n",
            "  a = sp.array([sp.nan, sp.nan]).mean()\n",
            "/tmp/ipykernel_30917/263016179.py:2: DeprecationWarning: scipy.argmin is deprecated and will be removed in SciPy 2.0.0, use numpy.argmin instead\n",
            "  sp.argmin([(1-a)**2, (1-a)**2])\n"
          ]
        },
        {
          "data": {
            "text/plain": [
              "0"
            ]
          },
          "execution_count": 2,
          "metadata": {},
          "output_type": "execute_result"
        }
      ],
      "source": [
        "a = sp.array([sp.nan, sp.nan]).mean()\n",
        "sp.argmin([(1-a)**2, (1-a)**2])"
      ]
    },
    {
      "cell_type": "code",
      "execution_count": 3,
      "metadata": {
        "ExecuteTime": {
          "end_time": "2019-06-09T12:36:20.403396Z",
          "start_time": "2019-06-09T12:36:20.398330Z"
        },
        "trusted": true
      },
      "outputs": [
        {
          "name": "stderr",
          "output_type": "stream",
          "text": [
            "/tmp/ipykernel_30917/1480779190.py:1: DeprecationWarning: scipy.array is deprecated and will be removed in SciPy 2.0.0, use numpy.array instead\n",
            "  a = sp.array([3, 1, 2, 4, 5, 6, 7, 8, 9, 10, 11, 12])\n",
            "/tmp/ipykernel_30917/1480779190.py:2: DeprecationWarning: scipy.where is deprecated and will be removed in SciPy 2.0.0, use numpy.where instead\n",
            "  a[sp.where([True, False, False, True, True, True, True, True, True, True, True, True])]\n"
          ]
        },
        {
          "data": {
            "text/plain": [
              "array([ 3,  4,  5,  6,  7,  8,  9, 10, 11, 12])"
            ]
          },
          "execution_count": 3,
          "metadata": {},
          "output_type": "execute_result"
        }
      ],
      "source": [
        "a = sp.array([3, 1, 2, 4, 5, 6, 7, 8, 9, 10, 11, 12])\n",
        "a[sp.where([True, False, False, True, True, True, True, True, True, True, True, True])]"
      ]
    },
    {
      "cell_type": "code",
      "execution_count": 5,
      "metadata": {
        "ExecuteTime": {
          "end_time": "2019-06-09T14:14:12.947934Z",
          "start_time": "2019-06-09T14:14:12.921525Z"
        },
        "code_folding": [],
        "trusted": true
      },
      "outputs": [
        {
          "name": "stdout",
          "output_type": "stream",
          "text": [
            "d: [[ 1.69476506e-03  4.12829247e-01]\n",
            " [-9.84705430e-01 -4.18212132e-02]\n",
            " [-1.03737803e+00 -9.14067337e-01]\n",
            " [-1.01041222e+00 -8.20718425e-01]\n",
            " [-1.22936281e+00  3.20376083e-01]\n",
            " [-1.09410031e+00 -1.78011424e+00]\n",
            " [ 1.35160189e+00  1.27200770e+00]\n",
            " [-5.90404460e-01 -8.89966183e-01]\n",
            " [-5.32163166e-03 -1.01119051e+00]\n",
            " [-6.09769462e-01 -6.86470098e-01]]\n",
            "select random i: 0\n",
            "new_d[:,:-1]:  [[ 1.69476506e-03  4.12829247e-01]\n",
            " [-9.84705430e-01 -4.18212132e-02]\n",
            " [-1.03737803e+00 -9.14067337e-01]\n",
            " [-1.01041222e+00 -8.20718425e-01]\n",
            " [-1.22936281e+00  3.20376083e-01]\n",
            " [-1.09410031e+00 -1.78011424e+00]\n",
            " [ 1.35160189e+00  1.27200770e+00]\n",
            " [-5.90404460e-01 -8.89966183e-01]\n",
            " [-5.32163166e-03 -1.01119051e+00]\n",
            " [-6.09769462e-01 -6.86470098e-01]]\n",
            "new_d[:,-1]==1:  [ True False  True False False False  True  True  True  True]\n",
            "bool [True, True]\n",
            "centroid [[-1.07964519 -0.58056945]\n",
            " [-0.14826282 -0.30280953]]\n",
            "d[:-1]: [0.00169477 0.41282925]\n"
          ]
        },
        {
          "name": "stderr",
          "output_type": "stream",
          "text": [
            "/tmp/ipykernel_30917/4196717002.py:28: DeprecationWarning: scipy.arange is deprecated and will be removed in SciPy 2.0.0, use numpy.arange instead\n",
            "  cluster_list = sp.arange(0, cluster_n)\n",
            "/tmp/ipykernel_30917/4196717002.py:29: DeprecationWarning: scipy.array is deprecated and will be removed in SciPy 2.0.0, use numpy.array instead\n",
            "  data = sp.array(data)\n",
            "/tmp/ipykernel_30917/4196717002.py:33: DeprecationWarning: scipy.arange is deprecated and will be removed in SciPy 2.0.0, use numpy.arange instead\n",
            "  for i in sp.arange(try_num):\n",
            "/tmp/ipykernel_30917/4196717002.py:38: DeprecationWarning: scipy.any is deprecated and will be removed in SciPy 2.0.0, use numpy.any instead\n",
            "  bool_arr = [sp.any(c==cluster_list) for c in random_cluster]\n",
            "/tmp/ipykernel_30917/4196717002.py:39: DeprecationWarning: scipy.all is deprecated and will be removed in SciPy 2.0.0, use numpy.all instead\n",
            "  if sp.all(bool_arr):\n",
            "/tmp/ipykernel_30917/4196717002.py:42: DeprecationWarning: scipy.any is deprecated and will be removed in SciPy 2.0.0, use numpy.any instead\n",
            "  if sp.any(c_l == None):\n",
            "/tmp/ipykernel_30917/4196717002.py:46: DeprecationWarning: scipy.hstack is deprecated and will be removed in SciPy 2.0.0, use numpy.hstack instead\n",
            "  data_c = sp.hstack((data, c_l))\n",
            "/tmp/ipykernel_30917/4196717002.py:48: DeprecationWarning: scipy.arange is deprecated and will be removed in SciPy 2.0.0, use numpy.arange instead\n",
            "  for i in sp.arange(try_num):\n",
            "/tmp/ipykernel_30917/4196717002.py:4: DeprecationWarning: scipy.empty is deprecated and will be removed in SciPy 2.0.0, use numpy.empty instead\n",
            "  cluster_centroid = sp.empty((len(cluster_list), data_c.shape[1]-1))\n",
            "/tmp/ipykernel_30917/4196717002.py:8: DeprecationWarning: scipy.any is deprecated and will be removed in SciPy 2.0.0, use numpy.any instead\n",
            "  is_cluster = sp.any(one_cluster_bool)\n",
            "/tmp/ipykernel_30917/4196717002.py:13: DeprecationWarning: scipy.where is deprecated and will be removed in SciPy 2.0.0, use numpy.where instead\n",
            "  idx = sp.where(cluster_list == c)\n",
            "/tmp/ipykernel_30917/4196717002.py:14: DeprecationWarning: scipy.mean is deprecated and will be removed in SciPy 2.0.0, use numpy.mean instead\n",
            "  cluster_centroid[idx] = sp.mean(data_c[one_cluster_bool, :-1], axis=0)\n"
          ]
        },
        {
          "ename": "NameError",
          "evalue": "name 'centroid' is not defined",
          "output_type": "error",
          "traceback": [
            "\u001b[0;31m---------------------------------------------------------------------------\u001b[0m",
            "\u001b[0;31mNameError\u001b[0m                                 Traceback (most recent call last)",
            "\u001b[0;32m/tmp/ipykernel_30917/4196717002.py\u001b[0m in \u001b[0;36m<module>\u001b[0;34m\u001b[0m\n\u001b[1;32m     72\u001b[0m \u001b[0md\u001b[0m \u001b[0;34m=\u001b[0m \u001b[0mstats\u001b[0m\u001b[0;34m.\u001b[0m\u001b[0mmultivariate_normal\u001b[0m\u001b[0;34m(\u001b[0m\u001b[0mmean\u001b[0m\u001b[0;34m=\u001b[0m\u001b[0;34m(\u001b[0m\u001b[0;36m0\u001b[0m\u001b[0;34m,\u001b[0m\u001b[0;36m0\u001b[0m\u001b[0;34m)\u001b[0m\u001b[0;34m,\u001b[0m \u001b[0mcov\u001b[0m\u001b[0;34m=\u001b[0m\u001b[0;34m[\u001b[0m\u001b[0;34m[\u001b[0m\u001b[0;36m1\u001b[0m\u001b[0;34m,\u001b[0m\u001b[0;36m0\u001b[0m\u001b[0;34m]\u001b[0m\u001b[0;34m,\u001b[0m\u001b[0;34m[\u001b[0m\u001b[0;36m0\u001b[0m\u001b[0;34m,\u001b[0m\u001b[0;36m1\u001b[0m\u001b[0;34m]\u001b[0m\u001b[0;34m]\u001b[0m\u001b[0;34m)\u001b[0m\u001b[0;34m.\u001b[0m\u001b[0mrvs\u001b[0m\u001b[0;34m(\u001b[0m\u001b[0;36m10\u001b[0m\u001b[0;34m)\u001b[0m\u001b[0;34m\u001b[0m\u001b[0;34m\u001b[0m\u001b[0m\n\u001b[1;32m     73\u001b[0m \u001b[0mprint\u001b[0m\u001b[0;34m(\u001b[0m\u001b[0;34m\"d:\"\u001b[0m\u001b[0;34m,\u001b[0m \u001b[0md\u001b[0m\u001b[0;34m)\u001b[0m\u001b[0;34m\u001b[0m\u001b[0;34m\u001b[0m\u001b[0m\n\u001b[0;32m---> 74\u001b[0;31m \u001b[0mmeans\u001b[0m \u001b[0;34m=\u001b[0m \u001b[0mk_means\u001b[0m\u001b[0;34m(\u001b[0m\u001b[0md\u001b[0m\u001b[0;34m)\u001b[0m\u001b[0;34m\u001b[0m\u001b[0;34m\u001b[0m\u001b[0m\n\u001b[0m\u001b[1;32m     75\u001b[0m \u001b[0mprint\u001b[0m\u001b[0;34m(\u001b[0m\u001b[0mlen\u001b[0m\u001b[0;34m(\u001b[0m\u001b[0mmeans\u001b[0m\u001b[0;34m)\u001b[0m\u001b[0;34m)\u001b[0m\u001b[0;34m\u001b[0m\u001b[0;34m\u001b[0m\u001b[0m\n\u001b[1;32m     76\u001b[0m \u001b[0mmeans\u001b[0m\u001b[0;34m\u001b[0m\u001b[0;34m\u001b[0m\u001b[0m\n",
            "\u001b[0;32m/tmp/ipykernel_30917/4196717002.py\u001b[0m in \u001b[0;36mk_means\u001b[0;34m(data, cluster_n, try_num)\u001b[0m\n\u001b[1;32m     55\u001b[0m         \u001b[0;32mfor\u001b[0m \u001b[0md\u001b[0m \u001b[0;32min\u001b[0m \u001b[0mnew_d\u001b[0m\u001b[0;34m:\u001b[0m\u001b[0;34m\u001b[0m\u001b[0;34m\u001b[0m\u001b[0m\n\u001b[1;32m     56\u001b[0m             \u001b[0mprint\u001b[0m\u001b[0;34m(\u001b[0m\u001b[0;34m\"d[:-1]:\"\u001b[0m\u001b[0;34m,\u001b[0m \u001b[0md\u001b[0m\u001b[0;34m[\u001b[0m\u001b[0;34m:\u001b[0m\u001b[0;34m-\u001b[0m\u001b[0;36m1\u001b[0m\u001b[0;34m]\u001b[0m\u001b[0;34m)\u001b[0m\u001b[0;34m\u001b[0m\u001b[0;34m\u001b[0m\u001b[0m\n\u001b[0;32m---> 57\u001b[0;31m             \u001b[0mprint\u001b[0m\u001b[0;34m(\u001b[0m\u001b[0;34m\"d[:-1]:-cen\"\u001b[0m\u001b[0;34m,\u001b[0m \u001b[0md\u001b[0m\u001b[0;34m[\u001b[0m\u001b[0;34m:\u001b[0m\u001b[0;34m-\u001b[0m\u001b[0;36m1\u001b[0m\u001b[0;34m]\u001b[0m\u001b[0;34m-\u001b[0m\u001b[0mcentroid\u001b[0m\u001b[0;34m)\u001b[0m\u001b[0;34m\u001b[0m\u001b[0;34m\u001b[0m\u001b[0m\n\u001b[0m\u001b[1;32m     58\u001b[0m             \u001b[0mdistance\u001b[0m \u001b[0;34m=\u001b[0m \u001b[0msp\u001b[0m\u001b[0;34m.\u001b[0m\u001b[0msum\u001b[0m\u001b[0;34m(\u001b[0m\u001b[0;34m(\u001b[0m\u001b[0md\u001b[0m\u001b[0;34m[\u001b[0m\u001b[0;34m:\u001b[0m\u001b[0;34m-\u001b[0m\u001b[0;36m1\u001b[0m\u001b[0;34m]\u001b[0m \u001b[0;34m-\u001b[0m \u001b[0mcluster_centroid\u001b[0m\u001b[0;34m)\u001b[0m\u001b[0;34m**\u001b[0m\u001b[0;36m2\u001b[0m\u001b[0;34m,\u001b[0m \u001b[0maxis\u001b[0m\u001b[0;34m=\u001b[0m\u001b[0;36m1\u001b[0m\u001b[0;34m)\u001b[0m\u001b[0;34m\u001b[0m\u001b[0;34m\u001b[0m\u001b[0m\n\u001b[1;32m     59\u001b[0m             \u001b[0mprint\u001b[0m\u001b[0;34m(\u001b[0m\u001b[0;34m\"distance:\"\u001b[0m\u001b[0;34m,\u001b[0m \u001b[0mdistance\u001b[0m\u001b[0;34m)\u001b[0m\u001b[0;34m\u001b[0m\u001b[0;34m\u001b[0m\u001b[0m\n",
            "\u001b[0;31mNameError\u001b[0m: name 'centroid' is not defined"
          ]
        }
      ],
      "source": [
        "\n",
        "\n",
        "def k_means(data, cluster_n = 2, try_num = 1000):\n",
        "    def calc_cluster_centroid(cluster_list, data_c):\n",
        "\n",
        "        cluster_centroid = sp.empty((len(cluster_list), data_c.shape[1]-1))\n",
        "        c_bool = []\n",
        "        for c in cluster_list:          \n",
        "            one_cluster_bool = (data_c[:,-1]==c)\n",
        "            is_cluster = sp.any(one_cluster_bool)\n",
        "            c_bool.append(is_cluster)\n",
        "            if not is_cluster:\n",
        "                continue\n",
        "    \n",
        "            idx = sp.where(cluster_list == c)\n",
        "            cluster_centroid[idx] = sp.mean(data_c[one_cluster_bool, :-1], axis=0)\n",
        "\n",
        "        print(\"bool\", c_bool)\n",
        "        print(\"centroid\", cluster_centroid)\n",
        "        return cluster_list[c_bool], cluster_centroid[c_bool]\n",
        "    \n",
        "    def rename_cluster(old_name, data_c, new_name):\n",
        "        if sp.all(old_name==new_name):\n",
        "            return data_c\n",
        "        \n",
        "        for idx in sp.arange(len(old_name)):\n",
        "            data_c[data_c[:, -1]==old_name[idx], -1] = new_name[idx]\n",
        "        return data_c\n",
        "    \n",
        "    cluster_list = sp.arange(0, cluster_n)\n",
        "    data = sp.array(data)\n",
        "    data_n = data.shape[0]\n",
        "\n",
        "    c_l = None\n",
        "    for i in sp.arange(try_num):\n",
        "        print(\"select random i:\", i)\n",
        "        random_cluster = sp.random.choice(cluster_list, data_n).reshape(data_n, 1)\n",
        "     \n",
        "        # check\n",
        "        bool_arr = [sp.any(c==cluster_list) for c in random_cluster]\n",
        "        if sp.all(bool_arr):\n",
        "            c_l = random_cluster\n",
        "            break\n",
        "    if sp.any(c_l == None):\n",
        "        print(\"can't select initial random cluster.\")\n",
        "        return 0\n",
        "\n",
        "    data_c = sp.hstack((data, c_l))\n",
        "    old_d = data_c\n",
        "    for i in sp.arange(try_num):\n",
        "        new_d = old_d.copy()\n",
        "        print(\"new_d[:,:-1]: \", new_d[:,:-1])\n",
        "        print(\"new_d[:,-1]==1: \", new_d[:,-1]==1)\n",
        "        \n",
        "        cluster_list, cluster_centroid = calc_cluster_centroid(cluster_list, new_d)\n",
        "        \n",
        "        for d in new_d:\n",
        "            print(\"d[:-1]:\", d[:-1])\n",
        "            print(\"d[:-1]:-cen\", d[:-1]-cluster_centroid)\n",
        "            distance = sp.sum((d[:-1] - cluster_centroid)**2, axis=1)\n",
        "            print(\"distance:\", distance)\n",
        "            min_idx = sp.argmin(distance)\n",
        "            print(\"min_idx:\",min_idx)\n",
        "            d[-1] = cluster_list[min_idx]\n",
        "            print(\"uplabel d\", new_d)\n",
        "        \n",
        "        if sp.all(new_d[:, -1]==old_d[:, -1]):\n",
        "            return len(cluster_list), sp.arange(len(cluster_list)), rename_cluster(cluster_list, new_d, sp.arange(len(cluster_list)))\n",
        "        \n",
        "        old_d = new_d\n",
        "    return len(cluster_list), sp.arange(len(cluster_list)), rename_cluster(cluster_list, new_d, sp.arange(len(cluster_list)))\n",
        "        \n",
        "\n",
        "d = stats.multivariate_normal(mean=(0,0), cov=[[1,0],[0,1]]).rvs(10)\n",
        "print(\"d:\", d)\n",
        "means = k_means(d)\n",
        "print(len(means))\n",
        "means"
      ]
    },
    {
      "cell_type": "code",
      "execution_count": null,
      "metadata": {
        "ExecuteTime": {
          "end_time": "2019-06-09T15:25:57.008309Z",
          "start_time": "2019-06-09T15:25:44.067942Z"
        },
        "scrolled": false,
        "trusted": true
      },
      "outputs": [],
      "source": [
        "%matplotlib inline\n",
        "\n",
        "import matplotlib.pyplot as plt\n",
        "import matplotlib.gridspec as gridspec\n",
        "\n",
        "gs = gridspec.GridSpec(2, 2)\n",
        "fig = plt.figure(figsize=(10, 10))\n",
        "\n",
        "d = stats.multivariate_normal(mean=(0,0), cov=[[1,0],[0,1]]).rvs(10000)\n",
        "\n",
        "cluster_list = [2, 3, 4, 5]\n",
        "for idx in sp.arange(len(cluster_list)):\n",
        "    n, cluster_names, c_d = k_means(d, cluster_n=cluster_list[idx])\n",
        "\n",
        "    print(\"c_d: \", c_d[c_d[:,-1]==0][:,0])\n",
        "    ax = fig.add_subplot(gs[int(idx/2), int(idx%2)])\n",
        "    for c in cluster_names:\n",
        "        ax.scatter(c_d[c_d[:,-1]==c][:,0], c_d[c_d[:,-1]==c][:,1], label=f\"cluster{c}\")\n",
        "\n",
        "    ax.set_aspect(\"equal\")\n",
        "    ax.set_xlim(-6, 6)\n",
        "    ax.set_ylim(-6, 6)\n",
        "    ax.legend()\n",
        "\n",
        "plt.tight_layout()\n",
        "plt.savefig(\"k-means.png\")\n",
        "plt.show()"
      ]
    },
    {
      "cell_type": "code",
      "execution_count": null,
      "metadata": {
        "ExecuteTime": {
          "end_time": "2019-06-09T08:08:18.856003Z",
          "start_time": "2019-06-09T08:08:18.846057Z"
        },
        "scrolled": true,
        "trusted": true
      },
      "outputs": [],
      "source": []
    },
    {
      "cell_type": "code",
      "execution_count": null,
      "metadata": {
        "trusted": true
      },
      "outputs": [],
      "source": []
    }
  ],
  "metadata": {
    "_draft": {
      "nbviewer_url": "https://gist.github.com/9455bb73c3f8137880ec66b61e8c4615"
    },
    "gist": {
      "data": {
        "description": "k-means clustering",
        "public": true
      },
      "id": "9455bb73c3f8137880ec66b61e8c4615"
    },
    "hide_input": false,
    "kernelspec": {
      "display_name": "Python 3",
      "language": "python",
      "name": "python3"
    },
    "language_info": {
      "codemirror_mode": {
        "name": "ipython",
        "version": 3
      },
      "file_extension": ".py",
      "mimetype": "text/x-python",
      "name": "python",
      "nbconvert_exporter": "python",
      "pygments_lexer": "ipython3",
      "version": "3.10.2"
    },
    "toc": {
      "base_numbering": 1,
      "nav_menu": {},
      "number_sections": true,
      "sideBar": true,
      "skip_h1_title": false,
      "title_cell": "Table of Contents",
      "title_sidebar": "Contents",
      "toc_cell": false,
      "toc_position": {},
      "toc_section_display": true,
      "toc_window_display": true
    }
  },
  "nbformat": 4,
  "nbformat_minor": 2
}
