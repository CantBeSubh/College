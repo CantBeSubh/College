{
 "cells": [
  {
   "cell_type": "code",
   "execution_count": null,
   "metadata": {},
   "outputs": [],
   "source": [
    "import numpy as np\n",
    "a = np.array([[5, 4], [1, 2]])\n",
    "w, v = np.linalg.eig(a)\n",
    "print(a)\n",
    "print('Eigenvalue:', w)\n",
    "print('Eigenvector', v)"
   ]
  },
  {
   "cell_type": "code",
   "execution_count": null,
   "metadata": {},
   "outputs": [],
   "source": [
    "a = np.array([[1, 1, 3], [1, 5, 1], [3, 1, 1]])\n",
    "b= np.array([[0, 1, 1], [1, 0, 1], [1, 1, 0]])\n",
    "\n",
    "w1, v1 = np.linalg.eig(a)\n",
    "w2,v2=np.linalg.eig(b)\n",
    "print(a)\n",
    "print('Eigenvalue:', w1)\n",
    "print('Eigenvector', v1)\n",
    "print('------')\n",
    "print(b)\n",
    "print('Eigenvalue:', w2)\n",
    "print('Eigenvector', v2)"
   ]
  },
  {
   "cell_type": "code",
   "execution_count": null,
   "metadata": {},
   "outputs": [],
   "source": [
    "a = np.array([[1, 1, 3], [1, 5, 1], [3, 1, 1]])                            \n",
    "b= np.array([[0, 1, 1], [1, 0, 1], [1, 1, 0]])\n",
    "\n",
    "w1, v1 = np.linalg.eig(a)\n",
    "w2,v2=np.linalg.eig(b)\n",
    "print(a)\n",
    "print('Eigenvalue:', w1)\n",
    "print('Eigenvector', v1)\n",
    "print('------')\n",
    "print(b)\n",
    "print('Eigenvalue:', w2)\n",
    "print('Eigenvector', v2)"
   ]
  },
  {
   "cell_type": "code",
   "execution_count": null,
   "metadata": {},
   "outputs": [],
   "source": [
    "a = np.array([[1, 1, 3], [1, 5, 1], [3, 1, 1]])\n",
    "b=a*a\n",
    "c=5*a\n",
    "d=np.linalg.inv(a)\n",
    "\n",
    "w, v = np.linalg.eig(a)\n",
    "print(a)\n",
    "print('Eigenvalue:', w)\n",
    "print('Eigenvector', v)\n",
    "print('--------------------')\n",
    "w, v = np.linalg.eig(b)\n",
    "print(b)\n",
    "print('Eigenvalue:', w)\n",
    "print('Eigenvector', v)\n",
    "print('--------------------')\n",
    "w, v = np.linalg.eig(c)\n",
    "print(c)\n",
    "print('Eigenvalue:', w)\n",
    "print('Eigenvector', v)\n",
    "print('--------------------')\n",
    "w, v = np.linalg.eig(d)\n",
    "print(d)\n",
    "print('Eigenvalue:', w)\n",
    "print('Eigenvector', v)\n",
    "print('--------------------')"
   ]
  },
  {
   "cell_type": "code",
   "execution_count": null,
   "metadata": {},
   "outputs": [],
   "source": [
    "a = np.array([[1, 1, 3], [1, 5, 1], [3, 1, 1]])\n",
    "b=np.linalg.inv(d)\n",
    "c=6*a\n",
    "d=np.power(a,3)\n",
    "\n",
    "w, v = np.linalg.eig(a)\n",
    "print(a)\n",
    "print('Eigenvalue:', w)\n",
    "print('Eigenvector', v)\n",
    "print('--------------------')\n",
    "w, v = np.linalg.eig(a)\n",
    "print(b)\n",
    "print('Eigenvalue:', w)\n",
    "print('Eigenvector', v)\n",
    "print('--------------------')\n",
    "w, v = np.linalg.eig(b)\n",
    "print(c)\n",
    "print('Eigenvalue:', w)\n",
    "print('Eigenvector', v)\n",
    "print('--------------------')\n",
    "w, v = np.linalg.eig(c)\n",
    "print(d)\n",
    "print('Eigenvalue:', w)\n",
    "print('Eigenvector', v)\n",
    "print('--------------------')"
   ]
  },
  {
   "cell_type": "code",
   "execution_count": null,
   "metadata": {},
   "outputs": [],
   "source": [
    "# Plotting 3d Eigenvectors\n",
    "import matplotlib.pyplot as plt\n",
    "a = np.array([[1, 1, 3], [1, 5, 1], [3, 1, 1]])\n",
    "w,v= np.linalg.eig(a)\n",
    "print('Eigenvalue:', w)\n",
    "print('Eigenvector', v)\n",
    "fig=plt.figure()\n",
    "ax=plt.axes(projection='3d')\n",
    "ax.set_xlim([-2, 2])\n",
    "ax.set_ylim([-2, 2])\n",
    "ax.set_zlim([-2, 2])\n",
    "start=[0,0,0]\n",
    "colors = ['b', 'r', 'g']\n",
    "for i, l in enumerate(range(0,3)):\n",
    "       ax.quiver(start[0],start[0],start[0],v[0,i],v[1,i],v[2,i],color=colors[i])\n",
    "plt.show()"
   ]
  },
  {
   "cell_type": "code",
   "execution_count": null,
   "metadata": {},
   "outputs": [],
   "source": [
    "a = np.array([[2, -2, 2], [1, 1, 1], [1, 3, -1]])\n",
    "b= np.array([[0, 1, 1], [1, 0, 1], [1, 1, 0]])\n",
    "\n",
    "fig=plt.figure()\n",
    "ax=plt.axes(projection='3d')\n",
    "ax.set_xlim([-2, 2])\n",
    "ax.set_ylim([-2, 2])\n",
    "ax.set_zlim([-2, 2])\n",
    "start=[0,0,0]\n",
    "colors = ['b', 'r', 'g']\n",
    "\n",
    "w,v= np.linalg.eig(a)\n",
    "print(a)\n",
    "print('Eigenvalue:', w)\n",
    "print('Eigenvector', v)\n",
    "for i, l in enumerate(range(0,3)):\n",
    "    ax.quiver(start[0],start[0],start[0],v[0,i],v[1,i],v[2,i],color=colors[i])\n",
    "plt.show()\n",
    "\n",
    "print('----------------------')\n",
    "w,v= np.linalg.eig(b)\n",
    "print(b)\n",
    "print('Eigenvalue:', w)\n",
    "print('Eigenvector', v)\n",
    "fig=plt.figure()\n",
    "ax=plt.axes(projection='3d')\n",
    "ax.set_xlim([-2, 2])\n",
    "ax.set_ylim([-2, 2])\n",
    "ax.set_zlim([-2, 2])\n",
    "start=[0,0,0]\n",
    "colors = ['b', 'r', 'g']\n",
    "for i, l in enumerate(range(0,3)):\n",
    "    ax.quiver(start[0],start[0],start[0],v[0,i],v[1,i],v[2,i],color=colors[i])\n",
    "plt.show()\n",
    "print('----------------------')"
   ]
  },
  {
   "cell_type": "code",
   "execution_count": null,
   "metadata": {},
   "outputs": [],
   "source": [
    "a = np.array([[2, -2, 2], [1, 1, 1], [1, 3, -1]])\n",
    "b= np.array([[0, 1, 1], [1, 0, 1], [1, 1, 0]])\n",
    "w,v = np.linalg.eig(a)\n",
    "print('Eigenvalue:', w)\n",
    "print('Eigenvector',v)\n",
    "\n",
    "ax=plt.axes(projection='3d')\n",
    "ax.set_xlim([-2, 2])\n",
    "ax.set_ylim([-2, 2])\n",
    "ax.set_zlim([-2, 2])\n",
    "start=[0,0,0]\n",
    "colors = ['b', 'r','g']\n",
    "for i, l in enumerate(range(0,3)):\n",
    "        plt.arrow(start[0],start[0],start[0],v[0,i],v[1,i],v[2,i],color=colors[i])\n",
    "plt.show()"
   ]
  },
  {
   "cell_type": "code",
   "execution_count": null,
   "metadata": {},
   "outputs": [],
   "source": [
    "a = np.array([[5, 4], [1, 2]])\n",
    "w, M = np.linalg.eig(a)\n",
    "print('Eigenvalue:', w)\n",
    "print('Eigenvector', M)\n",
    "rows, cols = M.T.shape\n",
    "colors = ['b', 'r','g']\n",
    "for i, l in enumerate(range(0,cols)):\n",
    "        plt.arrow(0, 0, M[0, i], M[1, i], head_width=0.15, head_length=0.15, color=colors[i], length_includes_head=True)\n",
    "plt.plot(0, 0, 'og')  # plot a point (green) at the origin\n",
    "plt.axis('equal')\n",
    "plt.xlim([-3, 3])\n",
    "plt.ylim([-3, 3])\n",
    "plt.show()"
   ]
  },
  {
   "cell_type": "code",
   "execution_count": null,
   "metadata": {},
   "outputs": [],
   "source": [
    "#plot 2d-quiver\n",
    "a = np.array([[5, 4], [1, 2]])\n",
    "w,v = np.linalg.eig(a)\n",
    "print('Eigenvalue:', w)\n",
    "print('Eigenvector',v)\n",
    "\n",
    "fig=plt.figure()\n",
    "ax=plt.axes()\n",
    "ax.set_xlim([-2, 2])\n",
    "ax.set_ylim([-2, 2])\n",
    "start=[0,0]\n",
    "colors = ['b', 'r', 'g']\n",
    "for i, l in enumerate(range(0,2)):\n",
    "    ax.quiver(start[0],start[0],v[0,i],v[1,i],scale=3,color=colors[i])\n",
    "plt.show()\n",
    "print('----------------------')"
   ]
  },
  {
   "cell_type": "code",
   "execution_count": 50,
   "metadata": {},
   "outputs": [
    {
     "name": "stdout",
     "output_type": "stream",
     "text": [
      "[[ 2 -2  2]\n",
      " [ 1  1  1]\n",
      " [ 1  3 -1]]\n",
      "Eigenvalue: [ 1.99999997  2.00000003 -2.        ]\n",
      "Eigenvector [[ 2.17031733e-08 -2.17031737e-08 -4.92365964e-01]\n",
      " [-7.07106781e-01 -7.07106781e-01 -1.23091491e-01]\n",
      " [-7.07106781e-01 -7.07106781e-01  8.61640437e-01]]\n"
     ]
    },
    {
     "data": {
      "image/png": "[encoded data removed]",
      "text/plain": [
       "<Figure size 432x288 with 1 Axes>"
      ]
     },
     "metadata": {
      "needs_background": "light"
     },
     "output_type": "display_data"
    },
    {
     "name": "stdout",
     "output_type": "stream",
     "text": [
      "----------------------\n"
     ]
    }
   ],
   "source": [
    "#plot 3d arrow\n",
    "a = np.array([[2, -2, 2], [1, 1, 1], [1, 3, -1]])\n",
    "\n",
    "fig=plt.figure()\n",
    "ax=plt.axes()\n",
    "ax.set_xlim([-2, 2])\n",
    "ax.set_ylim([-2, 2])\n",
    "start=[0,0,0]\n",
    "colors = ['b', 'r', 'g']\n",
    "\n",
    "w,v= np.linalg.eig(a)\n",
    "print(a)\n",
    "print('Eigenvalue:', w)\n",
    "print('Eigenvector', v)\n",
    "for i, l in enumerate(range(0,3)):\n",
    "    ax.arrow(start[0],start[0],v[0,i],v[1,i],color=colors[i],width=.025)\n",
    "plt.show()\n",
    "\n",
    "print('----------------------')"
   ]
  }
 ],
 "metadata": {
  "interpreter": {
   "hash": "37d7302c5625a8659c099f9af4165445e91f7d0c2f538e0a265f599241396700"
  },
  "kernelspec": {
   "display_name": "Python 3.9.7 64-bit ('base': conda)",
   "language": "python",
   "name": "python3"
  },
  "language_info": {
   "codemirror_mode": {
    "name": "ipython",
    "version": 3
   },
   "file_extension": ".py",
   "mimetype": "text/x-python",
   "name": "python",
   "nbconvert_exporter": "python",
   "pygments_lexer": "ipython3",
   "version": "3.9.7"
  },
  "orig_nbformat": 4
 },
 "nbformat": 4,
 "nbformat_minor": 2
}
