{
 "cells": [
  {
   "cell_type": "code",
   "execution_count": 1,
   "metadata": {},
   "outputs": [
    {
     "name": "stdout",
     "output_type": "stream",
     "text": [
      "[-1.  1.]\n"
     ]
    }
   ],
   "source": [
    "import numpy as np"
   ]
  },
  {
   "cell_type": "code",
   "execution_count": 12,
   "metadata": {},
   "outputs": [
    {
     "name": "stdout",
     "output_type": "stream",
     "text": [
      "[-2.66453526e-16 -5.00000000e-01  5.00000000e-01]\n",
      "----------------\n",
      "[-3. -1.  2.]\n",
      "----------------\n",
      "[1. 2. 1.]\n",
      "----------------\n",
      "[-3.  5. -1.]\n",
      "----------------\n"
     ]
    }
   ],
   "source": [
    "a=np.array([[3,3,5],[3,5,9],[5,9,17]])\n",
    "b=np.array([1,2,4])\n",
    "print(np.linalg.solve(a,b))\n",
    "print('----------------')\n",
    "a=np.array([[1,2,-1],[2,-2,-2],[-1,3,4]])\n",
    "b=np.array([-7,-8,8])\n",
    "print(np.linalg.solve(a,b))\n",
    "print('----------------')\n",
    "a=np.array([[2,1,2],[-1,2,-3],[3,2,-1]])\n",
    "b=np.array([6,0,6])\n",
    "print(np.linalg.solve(a,b))\n",
    "print('----------------')\n",
    "a=np.array([[2,3,5],[3,5,9],[5,9,13]])\n",
    "b=np.array([4,7,17])\n",
    "print(np.linalg.solve(a,b))\n",
    "print('----------------')"
   ]
  },
  {
   "cell_type": "code",
   "execution_count": 16,
   "metadata": {},
   "outputs": [
    {
     "name": "stdout",
     "output_type": "stream",
     "text": [
      "[[ 2  3  1]\n",
      " [ 0 -1  2]\n",
      " [ 0  0  3]]\n",
      "Eigenvalue: [ 2. -1.  3.]\n",
      "Eigenvector\n",
      "[[ 1.         -0.70710678  0.91287093]\n",
      " [ 0.          0.70710678  0.18257419]\n",
      " [ 0.          0.          0.36514837]]\n",
      "----------------\n",
      "[[-2  2 -3]\n",
      " [ 2  1 -6]\n",
      " [-1 -2  0]]\n",
      "Eigenvalue: [-3.  5. -3.]\n",
      "Eigenvector\n",
      "[[-0.95257934  0.40824829 -0.02296692]\n",
      " [ 0.27216553  0.81649658  0.83534731]\n",
      " [-0.13608276 -0.40824829  0.54924256]]\n",
      "----------------\n"
     ]
    }
   ],
   "source": [
    "a = np.array([[2,3,1], [0,-1,2],[0,0,3]])\n",
    "w, v = np.linalg.eig(a)\n",
    "print(a)\n",
    "print('Eigenvalue:', w)\n",
    "print('Eigenvector: ')\n",
    "print(v)\n",
    "print('----------------')\n",
    "a = np.array([[-2,2,-3], [2,1,-6],[-1,-2,0]])\n",
    "w, v = np.linalg.eig(a)\n",
    "print(a)\n",
    "print('Eigenvalue:', w)\n",
    "print('Eigenvector: ')\n",
    "print(v)\n",
    "print('----------------')"
   ]
  }
 ],
 "metadata": {
  "interpreter": {
   "hash": "37d7302c5625a8659c099f9af4165445e91f7d0c2f538e0a265f599241396700"
  },
  "kernelspec": {
   "display_name": "Python 3.9.7 64-bit ('base': conda)",
   "language": "python",
   "name": "python3"
  },
  "language_info": {
   "codemirror_mode": {
    "name": "ipython",
    "version": 3
   },
   "file_extension": ".py",
   "mimetype": "text/x-python",
   "name": "python",
   "nbconvert_exporter": "python",
   "pygments_lexer": "ipython3",
   "version": "3.9.7"
  },
  "orig_nbformat": 4
 },
 "nbformat": 4,
 "nbformat_minor": 2
}
