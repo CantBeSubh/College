{
 "cells": [
  {
   "cell_type": "code",
   "execution_count": 20,
   "metadata": {},
   "outputs": [
    {
     "name": "stderr",
     "output_type": "stream",
     "text": [
      "Matplotlib is building the font cache; this may take a moment.\n"
     ]
    }
   ],
   "source": [
    "import numpy as np\n",
    "import random\n",
    "import gym\n",
    "import math\n",
    "from collections import defaultdict, deque\n",
    "import matplotlib.pyplot as graph"
   ]
  },
  {
   "cell_type": "code",
   "execution_count": 22,
   "metadata": {},
   "outputs": [],
   "source": [
    "env = gym.make(\"BipedalWalker-v3\", hardcore=True)\n",
    "env.reset()\n",
    "\n",
    "stateBounds = [(0, math.pi),\n",
    "        (-2,2),\n",
    "        (-1,1),\n",
    "        (-1,1),\n",
    "        (0,math.pi),\n",
    "        (-2,2),\n",
    "        (0, math.pi),\n",
    "        (-2,2),\n",
    "        (0,1),\n",
    "        (0, math.pi),\n",
    "        (-2, 2),\n",
    "        (0, math.pi),\n",
    "        (-2, 2),\n",
    "        (0, 1)]\n",
    "\n",
    "actionBounds = (-1, 1)"
   ]
  },
  {
   "cell_type": "code",
   "execution_count": 21,
   "metadata": {},
   "outputs": [],
   "source": [
    "EPISODES = 1000\n",
    "GAMMA =  0.99\n",
    "ALPHA = 0.01\n",
    "HIGHSCORE = -200"
   ]
  },
  {
   "cell_type": "code",
   "execution_count": 25,
   "metadata": {},
   "outputs": [],
   "source": [
    "def updateQTable (Qtable, state, action, reward, nextState=None):\n",
    "    current = Qtable[state][action]  \n",
    "    qNext = np.max(Qtable[nextState]) if nextState is not None else 0\n",
    "    target = reward + (GAMMA * qNext)\n",
    "    new_value = current + (ALPHA * (target - current))\n",
    "    return new_value"
   ]
  },
  {
   "cell_type": "code",
   "execution_count": 26,
   "metadata": {},
   "outputs": [],
   "source": [
    "def getNextAction(qTable, epsilon, state):\n",
    "\n",
    "    if random.random() < epsilon:\n",
    "\n",
    "        action = ()\n",
    "        for i in range (0, 4):\n",
    "            action += (random.randint(0, 9),)\n",
    "\n",
    "    else:\n",
    "\n",
    "        action = np.unravel_index(np.argmax(qTable[state]), qTable[state].shape)\n",
    "\n",
    "    return action\n"
   ]
  },
  {
   "cell_type": "code",
   "execution_count": 27,
   "metadata": {},
   "outputs": [],
   "source": [
    "def discretizeState(state):\n",
    "\n",
    "    discreteState = []\n",
    "\n",
    "    for i in range(len(state)):\n",
    "\n",
    "        index = int((state[i]-stateBounds[i][0])  / (stateBounds[i][1]-stateBounds[i][0])*19)\n",
    "        discreteState.append(index)\n",
    "    \n",
    "    return tuple(discreteState)"
   ]
  },
  {
   "cell_type": "code",
   "execution_count": 28,
   "metadata": {},
   "outputs": [],
   "source": [
    "def convertNextAction(nextAction):\n",
    "    action = []\n",
    "\n",
    "    for i in range(len(nextAction)):\n",
    "\n",
    "        nextVal = nextAction[i] / 9 * 2 - 1\n",
    "\n",
    "        action.append(nextVal)\n",
    "\n",
    "    return tuple(action)"
   ]
  },
  {
   "cell_type": "code",
   "execution_count": 29,
   "metadata": {},
   "outputs": [],
   "source": [
    "def plotEpisode(myGraph, xval, yval, epScore, plotLine, i):\n",
    "\n",
    "    xval.append(i)\n",
    "    yval.append(epScore)\n",
    "\n",
    "    plotLine.set_xdata(xval)\n",
    "    plotLine.set_ydata(yval)\n",
    "    myGraph.savefig(\"./plot\")"
   ]
  },
  {
   "cell_type": "code",
   "execution_count": 30,
   "metadata": {},
   "outputs": [],
   "source": [
    "def runAlgorithmStep(env, i, qTable, doRender):\n",
    "    if(doRender):\n",
    "        env.render()\n",
    "\n",
    "    print(\"Episode #: \", i)\n",
    "\n",
    "    state = discretizeState(env.reset()[0:14])\n",
    "    total_reward=  0\n",
    "    epsilon = 1.0 / ( i * .004)\n",
    "\n",
    "    while True:\n",
    "        \n",
    "        nextAction = convertNextAction(getNextAction(qTable, epsilon, state))\n",
    "        nextActionDiscretized = getNextAction(qTable, epsilon, state)\n",
    "        nextState, reward, done, info = env.step(nextAction)\n",
    "        nextState = discretizeState(nextState[0:14])\n",
    "        total_reward += reward\n",
    "        qTable[state][nextActionDiscretized] = updateQTable(qTable, state, nextActionDiscretized, reward, nextState)\n",
    "        state = nextState\n",
    "        if done:\n",
    "                break\n",
    "    \n",
    "    if total_reward > HIGHSCORE:\n",
    "\n",
    "        HIGHSCORE = total_reward\n",
    "\n",
    "    return total_reward"
   ]
  },
  {
   "cell_type": "code",
   "execution_count": 33,
   "metadata": {},
   "outputs": [
    {
     "ename": "ResetNeeded",
     "evalue": "Cannot call `env.render()` before calling `env.reset()`, if this is a intended action, set `disable_render_order_enforcing=True` on the OrderEnforcer wrapper.",
     "output_type": "error",
     "traceback": [
      "\u001b[1;31m---------------------------------------------------------------------------\u001b[0m",
      "\u001b[1;31mResetNeeded\u001b[0m                               Traceback (most recent call last)",
      "\u001b[1;32m~\\AppData\\Local\\Temp\\ipykernel_16540\\3950987214.py\u001b[0m in \u001b[0;36m<module>\u001b[1;34m\u001b[0m\n\u001b[0;32m     21\u001b[0m \u001b[1;32mfor\u001b[0m \u001b[0mi\u001b[0m \u001b[1;32min\u001b[0m \u001b[0mrange\u001b[0m\u001b[1;33m(\u001b[0m\u001b[1;36m1\u001b[0m\u001b[1;33m,\u001b[0m \u001b[0mEPISODES\u001b[0m \u001b[1;33m+\u001b[0m \u001b[1;36m1\u001b[0m\u001b[1;33m)\u001b[0m\u001b[1;33m:\u001b[0m\u001b[1;33m\u001b[0m\u001b[1;33m\u001b[0m\u001b[0m\n\u001b[0;32m     22\u001b[0m \u001b[1;33m\u001b[0m\u001b[0m\n\u001b[1;32m---> 23\u001b[1;33m     \u001b[0mepScore\u001b[0m \u001b[1;33m=\u001b[0m \u001b[0mrunAlgorithmStep\u001b[0m\u001b[1;33m(\u001b[0m\u001b[0menv\u001b[0m\u001b[1;33m,\u001b[0m \u001b[0mi\u001b[0m\u001b[1;33m,\u001b[0m \u001b[0mqTable\u001b[0m\u001b[1;33m,\u001b[0m \u001b[0mdoRender\u001b[0m\u001b[1;33m)\u001b[0m\u001b[1;33m\u001b[0m\u001b[1;33m\u001b[0m\u001b[0m\n\u001b[0m\u001b[0;32m     24\u001b[0m     \u001b[0mprint\u001b[0m\u001b[1;33m(\u001b[0m\u001b[1;34m\"Episode finished. Now plotting..\"\u001b[0m\u001b[1;33m)\u001b[0m\u001b[1;33m\u001b[0m\u001b[1;33m\u001b[0m\u001b[0m\n\u001b[0;32m     25\u001b[0m     \u001b[0mplotEpisode\u001b[0m\u001b[1;33m(\u001b[0m\u001b[0mmyGraph\u001b[0m\u001b[1;33m,\u001b[0m \u001b[0mxval\u001b[0m\u001b[1;33m,\u001b[0m \u001b[0myval\u001b[0m\u001b[1;33m,\u001b[0m \u001b[0mepScore\u001b[0m\u001b[1;33m,\u001b[0m \u001b[0mplotLine\u001b[0m\u001b[1;33m,\u001b[0m \u001b[0mi\u001b[0m\u001b[1;33m)\u001b[0m\u001b[1;33m\u001b[0m\u001b[1;33m\u001b[0m\u001b[0m\n",
      "\u001b[1;32m~\\AppData\\Local\\Temp\\ipykernel_16540\\3135743040.py\u001b[0m in \u001b[0;36mrunAlgorithmStep\u001b[1;34m(env, i, qTable, doRender)\u001b[0m\n\u001b[0;32m      1\u001b[0m \u001b[1;32mdef\u001b[0m \u001b[0mrunAlgorithmStep\u001b[0m\u001b[1;33m(\u001b[0m\u001b[0menv\u001b[0m\u001b[1;33m,\u001b[0m \u001b[0mi\u001b[0m\u001b[1;33m,\u001b[0m \u001b[0mqTable\u001b[0m\u001b[1;33m,\u001b[0m \u001b[0mdoRender\u001b[0m\u001b[1;33m)\u001b[0m\u001b[1;33m:\u001b[0m\u001b[1;33m\u001b[0m\u001b[1;33m\u001b[0m\u001b[0m\n\u001b[0;32m      2\u001b[0m     \u001b[1;32mif\u001b[0m\u001b[1;33m(\u001b[0m\u001b[0mdoRender\u001b[0m\u001b[1;33m)\u001b[0m\u001b[1;33m:\u001b[0m\u001b[1;33m\u001b[0m\u001b[1;33m\u001b[0m\u001b[0m\n\u001b[1;32m----> 3\u001b[1;33m         \u001b[0menv\u001b[0m\u001b[1;33m.\u001b[0m\u001b[0mrender\u001b[0m\u001b[1;33m(\u001b[0m\u001b[1;33m)\u001b[0m\u001b[1;33m\u001b[0m\u001b[1;33m\u001b[0m\u001b[0m\n\u001b[0m\u001b[0;32m      4\u001b[0m \u001b[1;33m\u001b[0m\u001b[0m\n\u001b[0;32m      5\u001b[0m     \u001b[0mprint\u001b[0m\u001b[1;33m(\u001b[0m\u001b[1;34m\"Episode #: \"\u001b[0m\u001b[1;33m,\u001b[0m \u001b[0mi\u001b[0m\u001b[1;33m)\u001b[0m\u001b[1;33m\u001b[0m\u001b[1;33m\u001b[0m\u001b[0m\n",
      "\u001b[1;32mc:\\Users\\subhr\\OneDrive\\Documents\\Github\\College\\Sem6\\D RL\\DA1\\.venv\\lib\\site-packages\\gym\\core.py\u001b[0m in \u001b[0;36mrender\u001b[1;34m(self, *args, **kwargs)\u001b[0m\n\u001b[0;32m    327\u001b[0m     ) -> Optional[Union[RenderFrame, List[RenderFrame]]]:\n\u001b[0;32m    328\u001b[0m         \u001b[1;34m\"\"\"Renders the environment.\"\"\"\u001b[0m\u001b[1;33m\u001b[0m\u001b[1;33m\u001b[0m\u001b[0m\n\u001b[1;32m--> 329\u001b[1;33m         \u001b[1;32mreturn\u001b[0m \u001b[0mself\u001b[0m\u001b[1;33m.\u001b[0m\u001b[0menv\u001b[0m\u001b[1;33m.\u001b[0m\u001b[0mrender\u001b[0m\u001b[1;33m(\u001b[0m\u001b[1;33m*\u001b[0m\u001b[0margs\u001b[0m\u001b[1;33m,\u001b[0m \u001b[1;33m**\u001b[0m\u001b[0mkwargs\u001b[0m\u001b[1;33m)\u001b[0m\u001b[1;33m\u001b[0m\u001b[1;33m\u001b[0m\u001b[0m\n\u001b[0m\u001b[0;32m    330\u001b[0m \u001b[1;33m\u001b[0m\u001b[0m\n\u001b[0;32m    331\u001b[0m     \u001b[1;32mdef\u001b[0m \u001b[0mclose\u001b[0m\u001b[1;33m(\u001b[0m\u001b[0mself\u001b[0m\u001b[1;33m)\u001b[0m\u001b[1;33m:\u001b[0m\u001b[1;33m\u001b[0m\u001b[1;33m\u001b[0m\u001b[0m\n",
      "\u001b[1;32mc:\\Users\\subhr\\OneDrive\\Documents\\Github\\College\\Sem6\\D RL\\DA1\\.venv\\lib\\site-packages\\gym\\wrappers\\order_enforcing.py\u001b[0m in \u001b[0;36mrender\u001b[1;34m(self, *args, **kwargs)\u001b[0m\n\u001b[0;32m     46\u001b[0m         \u001b[1;32mif\u001b[0m \u001b[1;32mnot\u001b[0m \u001b[0mself\u001b[0m\u001b[1;33m.\u001b[0m\u001b[0m_disable_render_order_enforcing\u001b[0m \u001b[1;32mand\u001b[0m \u001b[1;32mnot\u001b[0m \u001b[0mself\u001b[0m\u001b[1;33m.\u001b[0m\u001b[0m_has_reset\u001b[0m\u001b[1;33m:\u001b[0m\u001b[1;33m\u001b[0m\u001b[1;33m\u001b[0m\u001b[0m\n\u001b[0;32m     47\u001b[0m             raise ResetNeeded(\n\u001b[1;32m---> 48\u001b[1;33m                 \u001b[1;34m\"Cannot call `env.render()` before calling `env.reset()`, if this is a intended action, \"\u001b[0m\u001b[1;33m\u001b[0m\u001b[1;33m\u001b[0m\u001b[0m\n\u001b[0m\u001b[0;32m     49\u001b[0m                 \u001b[1;34m\"set `disable_render_order_enforcing=True` on the OrderEnforcer wrapper.\"\u001b[0m\u001b[1;33m\u001b[0m\u001b[1;33m\u001b[0m\u001b[0m\n\u001b[0;32m     50\u001b[0m             )\n",
      "\u001b[1;31mResetNeeded\u001b[0m: Cannot call `env.render()` before calling `env.reset()`, if this is a intended action, set `disable_render_order_enforcing=True` on the OrderEnforcer wrapper."
     ]
    },
    {
     "data": {
      "image/png": "[encoded data removed]",
      "text/plain": [
       "<Figure size 640x480 with 1 Axes>"
      ]
     },
     "metadata": {},
     "output_type": "display_data"
    }
   ],
   "source": [
    "visualize = input(\"Visualize? [y/n]\\n\")\n",
    "\n",
    "if visualize == 'y':\n",
    "    doRender = True\n",
    "else:\n",
    "    doRender = False\n",
    "    \n",
    "qTable = defaultdict( lambda: np.zeros((10, 10, 10, 10)))\n",
    "\n",
    "myGraph = graph.figure()\n",
    "xval, yval = [], []\n",
    "mySubPlot = myGraph.add_subplot()\n",
    "graph.xlabel(\"Episode #\")\n",
    "graph.ylabel(\"Score\")\n",
    "graph.title(\"Scores vs Episode\")\n",
    "plotLine, = mySubPlot.plot(xval, yval)\n",
    "mySubPlot.set_xlim([0, EPISODES])\n",
    "mySubPlot.set_ylim([-220, -80])\n",
    "\n",
    "\n",
    "for i in range(1, EPISODES + 1):\n",
    "\n",
    "    epScore = runAlgorithmStep(env, i, qTable, doRender)\n",
    "    print(\"Episode finished. Now plotting..\")\n",
    "    plotEpisode(myGraph, xval, yval, epScore, plotLine, i)\n",
    "\n",
    "print(\"All episodes finished. Highest score achieved: \" + str(HIGHSCORE))"
   ]
  }
 ],
 "metadata": {
  "kernelspec": {
   "display_name": ".venv",
   "language": "python",
   "name": "python3"
  },
  "language_info": {
   "codemirror_mode": {
    "name": "ipython",
    "version": 3
   },
   "file_extension": ".py",
   "mimetype": "text/x-python",
   "name": "python",
   "nbconvert_exporter": "python",
   "pygments_lexer": "ipython3",
   "version": "3.7.9"
  },
  "orig_nbformat": 4,
  "vscode": {
   "interpreter": {
    "hash": "41ebcef42b074a711177c5b1c82b89a4414b531c6e4f0daa2da48e3a455bc0d0"
   }
  }
 },
 "nbformat": 4,
 "nbformat_minor": 2
}
